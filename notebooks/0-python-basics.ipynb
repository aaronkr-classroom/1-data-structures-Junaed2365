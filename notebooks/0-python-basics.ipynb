{
 "cells": [
  {
   "cell_type": "markdown",
   "metadata": {},
   "source": [
    "# 0. Hello, Python! (Basic Data Types)\n",
    "# 0. Hello, Python! (Basic Data Types)\n",
    "This is a Python refresher notebook. It covers the basic data types in Python."
   ]
  },
  {
   "cell_type": "code",
   "execution_count": 8,
   "metadata": {},
   "outputs": [
    {
     "name": "stdout",
     "output_type": "stream",
     "text": [
      "integer:3\n"
     ]
    }
   ],
   "source": [
    "# --- Numeric Types ---\n",
    "\n"
   ]
  },
  {
   "cell_type": "code",
   "execution_count": 1,
   "metadata": {},
   "outputs": [
    {
     "name": "stdout",
     "output_type": "stream",
     "text": [
      "integer:3\n"
     ]
    }
   ],
   "source": [
    "# Integer\n",
    "num = 3\n",
    "print(f\"integer:{num}\")\n"
   ]
  },
  {
   "cell_type": "code",
   "execution_count": 3,
   "metadata": {},
   "outputs": [
    {
     "name": "stdout",
     "output_type": "stream",
     "text": [
      "integer 5\n"
     ]
    }
   ],
   "source": [
    "a=5\n",
    "print(\"integer\",a)"
   ]
  },
  {
   "cell_type": "code",
   "execution_count": 2,
   "metadata": {},
   "outputs": [
    {
     "name": "stdout",
     "output_type": "stream",
     "text": [
      "integer:4\n"
     ]
    }
   ],
   "source": [
    "a=4\n",
    "print(f\"integer:{a}\")\n"
   ]
  },
  {
   "cell_type": "code",
   "execution_count": 6,
   "metadata": {},
   "outputs": [
    {
     "name": "stdout",
     "output_type": "stream",
     "text": [
      "flott: 4.5\n"
     ]
    }
   ],
   "source": [
    "# Float\n",
    "num=4.5\n",
    "print(\"flott:\",num)\n"
   ]
  },
  {
   "cell_type": "code",
   "execution_count": 9,
   "metadata": {},
   "outputs": [
    {
     "name": "stdout",
     "output_type": "stream",
     "text": [
      "complex (2+3j)\n"
     ]
    }
   ],
   "source": [
    "\n",
    "# Complex\n",
    "c = 2+3j\n",
    "print(f\"complex\",c)\n"
   ]
  },
  {
   "cell_type": "code",
   "execution_count": 45,
   "metadata": {},
   "outputs": [
    {
     "name": "stdout",
     "output_type": "stream",
     "text": [
      "hello toto\n"
     ]
    },
    {
     "data": {
      "text/plain": [
       "'HELLO'"
      ]
     },
     "execution_count": 45,
     "metadata": {},
     "output_type": "execute_result"
    }
   ],
   "source": [
    "\n",
    "\n",
    "# --- String and Character ---\n",
    "# String\n",
    "string1=\"hello\"\n",
    "string2=\"toto\"\n",
    "coco= string1 + \" \"+string2\n",
    "print(coco)\n",
    "len(coco)\n",
    "string1[3]\n",
    "string2[-2]\n",
    "string2[1:3]\n",
    "string1.upper()\n"
   ]
  },
  {
   "cell_type": "code",
   "execution_count": 34,
   "metadata": {},
   "outputs": [
    {
     "name": "stdout",
     "output_type": "stream",
     "text": [
      "nooooo\n"
     ]
    }
   ],
   "source": [
    "if \"tooo\" in coco:\n",
    "    print(\"found\")\n",
    "else:\n",
    "    print(\"nooooo\")"
   ]
  },
  {
   "cell_type": "code",
   "execution_count": 46,
   "metadata": {},
   "outputs": [
    {
     "name": "stdout",
     "output_type": "stream",
     "text": [
      "hello python\n"
     ]
    }
   ],
   "source": [
    "cocoN=coco.replace(\"toto\",\"python\")\n",
    "print(cocoN)"
   ]
  },
  {
   "cell_type": "code",
   "execution_count": 50,
   "metadata": {},
   "outputs": [
    {
     "name": "stdout",
     "output_type": "stream",
     "text": [
      "['hello', 'python']\n"
     ]
    }
   ],
   "source": [
    "cocoN1=cocoN.split(\" \")\n",
    "print(cocoN1)"
   ]
  },
  {
   "cell_type": "code",
   "execution_count": 51,
   "metadata": {},
   "outputs": [
    {
     "name": "stdout",
     "output_type": "stream",
     "text": [
      "hello-python\n"
     ]
    }
   ],
   "source": [
    "cocoN2= \"-\".join(cocoN1)\n",
    "print(cocoN2)"
   ]
  },
  {
   "cell_type": "code",
   "execution_count": 52,
   "metadata": {},
   "outputs": [
    {
     "name": "stdout",
     "output_type": "stream",
     "text": [
      "hellohellohellohellohello\n"
     ]
    }
   ],
   "source": [
    "cocoN3= string1*5\n",
    "print(cocoN3)"
   ]
  },
  {
   "cell_type": "code",
   "execution_count": 53,
   "metadata": {},
   "outputs": [
    {
     "name": "stdout",
     "output_type": "stream",
     "text": [
      "x==y\n"
     ]
    }
   ],
   "source": [
    "\n",
    "\n",
    "\n",
    "# Character (In Python, a single character is just a string of length 1)\n",
    "char='a'\n",
    "\n",
    "# --- Boolean ---\n",
    "# Boolean values\n"
   ]
  },
  {
   "cell_type": "code",
   "execution_count": 60,
   "metadata": {},
   "outputs": [
    {
     "name": "stdout",
     "output_type": "stream",
     "text": [
      "True\n"
     ]
    }
   ],
   "source": [
    "x=20\n",
    "y=4\n",
    "print(x!=y)\n"
   ]
  },
  {
   "cell_type": "code",
   "execution_count": 67,
   "metadata": {},
   "outputs": [
    {
     "name": "stdout",
     "output_type": "stream",
     "text": [
      "new array is,[1, 2, 10, 4, 5, 6, 7]\n"
     ]
    }
   ],
   "source": [
    "\n",
    "# --- Arrays (Lists) ---\n",
    "# List\n",
    "array=[1,2,3,4,5,6,7]\n",
    "array[2]=10\n",
    "print(f\"new array is,{array}\")\n"
   ]
  },
  {
   "cell_type": "code",
   "execution_count": 79,
   "metadata": {},
   "outputs": [
    {
     "name": "stdout",
     "output_type": "stream",
     "text": [
      "[1, 4, 5, 6, 2, 2, 1, 1, 9, 9, 9, 9, 9, 9]\n"
     ]
    }
   ],
   "source": [
    "array.append(9)\n",
    "array.remove(2)\n",
    "print(array)"
   ]
  },
  {
   "cell_type": "code",
   "execution_count": 81,
   "metadata": {},
   "outputs": [
    {
     "name": "stdout",
     "output_type": "stream",
     "text": [
      "[1, 2, 88, 3, 4, 5, 6]\n"
     ]
    }
   ],
   "source": [
    "array=[1,2,3,4,5,6]\n",
    "array.insert(2,88)\n",
    "print(array)"
   ]
  },
  {
   "cell_type": "code",
   "execution_count": null,
   "metadata": {},
   "outputs": [],
   "source": [
    "\n",
    "# Accessing list elements\n",
    "print(f\"Mixed arr first item:{mixed_arr[0]}\")\n",
    "\n",
    "# Adding to a list\n",
    "\n",
    "\n",
    "# --- Objects (using classes) ---\n",
    "class student :\n",
    "    def _init_(self,name,id):\n",
    "        self.name = id\n",
    "    def greet(self):\n",
    "        print(f\"Hello, Im {self.name} aand my id is  {self.id}.\")\n",
    "\n",
    "\n",
    "# Create an object of the Person class\n",
    "s1 = Student(\"junaid\",202227347"
   ]
  },
  {
   "cell_type": "code",
   "execution_count": 3,
   "metadata": {},
   "outputs": [
    {
     "ename": "SyntaxError",
     "evalue": "expected ':' (3485937129.py, line 4)",
     "output_type": "error",
     "traceback": [
      "\u001b[0;36m  Cell \u001b[0;32mIn[3], line 4\u001b[0;36m\u001b[0m\n\u001b[0;31m    def __init__(self, name='name', color = 'red', size = '0',price ='34')\u001b[0m\n\u001b[0m                                                                          ^\u001b[0m\n\u001b[0;31mSyntaxError\u001b[0m\u001b[0;31m:\u001b[0m expected ':'\n"
     ]
    }
   ],
   "source": [
    "class Food:\n",
    "  def __init__(self,name):\n",
    "    self.name= name\n",
    "  def __init__(self, name='name', color = 'red', size = '0',price ='34')\n",
    "    self.name=Nsmrrhhd\n",
    "    self.color=reeedd\n",
    "    self.size=s09rs90\n",
    "    self.price= rr3r3\n",
    "    self.quantity=1\n",
    "  \n",
    "  def printinfo(self):\n",
    "    if self.name == '':\n",
    "      print(\"i am nothing)\")\n",
    "    else:\n",
    "      print(\"i am a\",self.name)\n",
    "      print(f\"I am a {self.name}.\")\n"
   ]
  },
  {
   "cell_type": "code",
   "execution_count": 11,
   "metadata": {},
   "outputs": [],
   "source": [
    "class Food:\n",
    "  def __init__(self, name):\n",
    "    self.name= name\n",
    "  def __init__(self, name='Nameee', color = 'bluuu', size = '0',price ='34'):\n",
    "    self.name=name\n",
    "    self.color=color\n",
    "    self.size=size\n",
    "    self.price= price\n",
    "    self.quantity=1\n",
    "  \n",
    "  def printinfo(self):\n",
    "    if self.name == '':\n",
    "      print(\"i am nothing)\")\n",
    "    else:\n",
    "      print(\"i am a\",self.name)\n",
    "      print(f\"I am a {self.name}.\")"
   ]
  },
  {
   "cell_type": "code",
   "execution_count": null,
   "metadata": {},
   "outputs": [],
   "source": [
    "f1 = Food()\n",
    "f2 = Food('banana')\n",
    "f3 = Food('orange','orange')"
   ]
  },
  {
   "cell_type": "code",
   "execution_count": null,
   "metadata": {},
   "outputs": [],
   "source": [
    ")\n",
    "\n",
    "\n",
    "# --- Type Conversion ---\n",
    "# Convert integer to float\n",
    "\n",
    "\n",
    "# Convert float to integer (truncates the decimal part)\n",
    "\n",
    "\n",
    "# Convert boolean to integer\n",
    "\n",
    "\n",
    "# --- Type Checking ---\n"
   ]
  },
  {
   "cell_type": "markdown",
   "metadata": {},
   "source": [
    "# 1. Hello, World! (First Program)\n",
    "\n",
    "This is a simple introduction to Python syntax and the print() function."
   ]
  },
  {
   "cell_type": "code",
   "execution_count": null,
   "metadata": {},
   "outputs": [],
   "source": [
    "# Basic \"Hello, World!\" example\n"
   ]
  },
  {
   "cell_type": "markdown",
   "metadata": {},
   "source": [
    "# 2. Basic Math Operations\n",
    "\n",
    "Introduce variables and arithmetic operators."
   ]
  },
  {
   "cell_type": "code",
   "execution_count": null,
   "metadata": {},
   "outputs": [],
   "source": [
    "# Simple math operations\n",
    "\n",
    "\n",
    "# Addition\n",
    "\n",
    "# Subtraction\n",
    "\n",
    "# Multiplication\n",
    "\n",
    "# Division\n"
   ]
  },
  {
   "cell_type": "markdown",
   "metadata": {},
   "source": [
    "# 3. Getting User Input\n",
    "\n",
    "Demonstrates how to interact with the user via input()."
   ]
  },
  {
   "cell_type": "code",
   "execution_count": 13,
   "metadata": {},
   "outputs": [
    {
     "name": "stdout",
     "output_type": "stream",
     "text": [
      "Helloyyyy>\n"
     ]
    }
   ],
   "source": [
    "# Getting user input and using it\n",
    "name = input(\"whats ur name .....\")\n",
    "print(\"Hello\" + name + \">\")\n",
    "\n",
    "\n",
    "# Working with numbers\n"
   ]
  },
  {
   "cell_type": "markdown",
   "metadata": {},
   "source": [
    "# 4. If Statements (Conditionals)\n",
    "\n",
    "Introduce the concept of decision-making using if, else, and elif."
   ]
  },
  {
   "cell_type": "code",
   "execution_count": null,
   "metadata": {},
   "outputs": [],
   "source": [
    "# Basic if-else example\n",
    "\n"
   ]
  },
  {
   "cell_type": "markdown",
   "metadata": {},
   "source": [
    "# 5. For Loop (Iteration)\n",
    "\n",
    "A basic introduction to loops with a for loop that repeats a certain number of times."
   ]
  },
  {
   "cell_type": "code",
   "execution_count": null,
   "metadata": {},
   "outputs": [],
   "source": [
    "# Basic for loop example\n"
   ]
  },
  {
   "cell_type": "markdown",
   "metadata": {},
   "source": [
    "# 6. While Loop (Iteration with Condition)\n",
    "\n",
    "Demonstrates a loop that runs until a condition is met."
   ]
  },
  {
   "cell_type": "code",
   "execution_count": 16,
   "metadata": {},
   "outputs": [
    {
     "name": "stdout",
     "output_type": "stream",
     "text": [
      "Loop iteration 5\n",
      "Loop iteration 12\n",
      "Loop iteration 19\n",
      "Loop iteration 26\n",
      "Loop iteration 33\n",
      "Loop iteration 40\n",
      "Loop iteration 47\n",
      "Loop iteration 54\n",
      "Loop iteration 61\n",
      "Loop iteration 68\n",
      "Loop iteration 75\n",
      "Loop iteration 82\n",
      "Loop iteration 89\n",
      "Loop iteration 96\n",
      "Loop iteration 103\n",
      "Loop iteration 110\n",
      "Loop iteration 117\n",
      "Loop iteration 124\n",
      "Loop iteration 131\n",
      "Loop iteration 138\n",
      "Loop iteration 145\n",
      "Loop iteration 152\n",
      "Loop iteration 159\n",
      "Loop iteration 166\n",
      "Loop iteration 173\n",
      "Loop iteration 180\n",
      "Loop iteration 187\n",
      "Loop iteration 194\n",
      "Loop iteration 201\n",
      "Loop iteration 208\n",
      "Loop iteration 215\n",
      "Loop iteration 222\n",
      "Loop iteration 229\n",
      "Loop iteration 236\n",
      "Loop iteration 243\n",
      "Loop iteration 250\n",
      "Loop iteration 257\n",
      "Loop iteration 264\n",
      "Loop iteration 271\n",
      "Loop iteration 278\n",
      "Loop iteration 285\n",
      "Loop iteration 292\n",
      "Loop iteration 299\n"
     ]
    }
   ],
   "source": [
    "# Basic while loop example\n",
    "for x in range(4,300,7):\n",
    "    print(\"Loop iteration\",x+1)\n",
    "    "
   ]
  },
  {
   "cell_type": "markdown",
   "metadata": {},
   "source": [
    "# 7. Basic Function Example\n",
    "\n",
    "Introducing how to write and call functions."
   ]
  },
  {
   "cell_type": "code",
   "execution_count": null,
   "metadata": {},
   "outputs": [],
   "source": [
    "# Function to greet the user\n"
   ]
  },
  {
   "cell_type": "markdown",
   "metadata": {},
   "source": [
    "# 8. Simple Temperature Converter\n",
    "\n",
    "Combines input, conditionals, and functions in a real-world example."
   ]
  },
  {
   "cell_type": "code",
   "execution_count": null,
   "metadata": {},
   "outputs": [],
   "source": [
    "# Function to convert Celsius to Fahrenheit\n",
    "\n",
    "\n",
    "# Get temperature from user\n"
   ]
  },
  {
   "cell_type": "markdown",
   "metadata": {},
   "source": [
    "# 9. Simple Guessing Game\n",
    "\n",
    "A fun exercise that involves loops, conditionals, and randomness."
   ]
  },
  {
   "cell_type": "code",
   "execution_count": null,
   "metadata": {},
   "outputs": [],
   "source": [
    "\n",
    "# Generate a random number between 1 and 10\n",
    "\n",
    "\n",
    "# Keep asking the user until they guess correctly\n"
   ]
  },
  {
   "cell_type": "markdown",
   "metadata": {},
   "source": [
    "# 10. FizzBuzz (Classic Example)\n",
    "\n",
    "A popular coding challenge that helps beginners practice conditionals and loops.\n",
    "\n",
    "**Problem Statement:**\n",
    "\n",
    "Print numbers from 1 to n, where n is a positive integer. For each number:\n",
    "\n",
    "- Print \"Fizz\" if the number is divisible by 3.\n",
    "- Print \"Buzz\" if the number is divisible by 5.\n",
    "- Print \"FizzBuzz\" if the number is divisible by both 3 and 5.\n",
    "- Print the number itself if it is not divisible by either 3 or 5."
   ]
  },
  {
   "cell_type": "code",
   "execution_count": null,
   "metadata": {},
   "outputs": [],
   "source": [
    "# FizzBuzz example\n"
   ]
  },
  {
   "cell_type": "markdown",
   "metadata": {},
   "source": [
    "# Bonus: Recursive Fibonacci Function\n",
    "\n",
    "A more advanced example that demonstrates recursion."
   ]
  },
  {
   "cell_type": "code",
   "execution_count": null,
   "metadata": {},
   "outputs": [],
   "source": [
    "def fibonacci(n):\n",
    "    # Base cases\n",
    "\n",
    "        # Recursive case: F(n) = F(n-1) + F(n-2)\n",
    "        \n",
    "\n",
    "# Example usage\n"
   ]
  },
  {
   "cell_type": "code",
   "execution_count": null,
   "metadata": {},
   "outputs": [],
   "source": []
  }
 ],
 "metadata": {
  "kernelspec": {
   "display_name": "Python 3",
   "language": "python",
   "name": "python3"
  },
  "language_info": {
   "codemirror_mode": {
    "name": "ipython",
    "version": 3
   },
   "file_extension": ".py",
   "mimetype": "text/x-python",
   "name": "python",
   "nbconvert_exporter": "python",
   "pygments_lexer": "ipython3",
   "version": "3.12.1"
  }
 },
 "nbformat": 4,
 "nbformat_minor": 2
}
